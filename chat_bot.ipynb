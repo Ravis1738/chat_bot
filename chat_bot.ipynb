{
 "cells": [
  {
   "cell_type": "code",
   "execution_count": 4,
   "id": "c0df7b4a",
   "metadata": {},
   "outputs": [],
   "source": [
    "import os\n",
    "import numpy as np\n",
    "import pandas as pd\n",
    "from sklearn.feature_extraction.text import TfidfVectorizer\n",
    "from sklearn.metrics.pairwise import cosine_similarity"
   ]
  },
  {
   "cell_type": "code",
   "execution_count": 9,
   "id": "69f6abbf",
   "metadata": {},
   "outputs": [
    {
     "data": {
      "text/html": [
       "<div>\n",
       "<style scoped>\n",
       "    .dataframe tbody tr th:only-of-type {\n",
       "        vertical-align: middle;\n",
       "    }\n",
       "\n",
       "    .dataframe tbody tr th {\n",
       "        vertical-align: top;\n",
       "    }\n",
       "\n",
       "    .dataframe thead th {\n",
       "        text-align: right;\n",
       "    }\n",
       "</style>\n",
       "<table border=\"1\" class=\"dataframe\">\n",
       "  <thead>\n",
       "    <tr style=\"text-align: right;\">\n",
       "      <th></th>\n",
       "      <th>Question</th>\n",
       "      <th>Answer</th>\n",
       "    </tr>\n",
       "  </thead>\n",
       "  <tbody>\n",
       "    <tr>\n",
       "      <th>0</th>\n",
       "      <td>What is Amazon Elastic Compute Cloud (Amazon E...</td>\n",
       "      <td>Amazon Elastic Compute Cloud (Amazon EC2) is a...</td>\n",
       "    </tr>\n",
       "    <tr>\n",
       "      <th>1</th>\n",
       "      <td>What can I do with Amazon EC2?</td>\n",
       "      <td>Just as Amazon Simple Storage Service (Amazon ...</td>\n",
       "    </tr>\n",
       "    <tr>\n",
       "      <th>2</th>\n",
       "      <td>How can I get started with Amazon EC2?</td>\n",
       "      <td>To sign up for Amazon EC2, click the “Sign up ...</td>\n",
       "    </tr>\n",
       "    <tr>\n",
       "      <th>3</th>\n",
       "      <td>Why am I asked to verify my phone number when ...</td>\n",
       "      <td>Amazon EC2 registration requires you to have a...</td>\n",
       "    </tr>\n",
       "    <tr>\n",
       "      <th>4</th>\n",
       "      <td>What can developers now do that they could not...</td>\n",
       "      <td>Until now, small developers did not have the c...</td>\n",
       "    </tr>\n",
       "  </tbody>\n",
       "</table>\n",
       "</div>"
      ],
      "text/plain": [
       "                                            Question  \\\n",
       "0  What is Amazon Elastic Compute Cloud (Amazon E...   \n",
       "1                     What can I do with Amazon EC2?   \n",
       "2             How can I get started with Amazon EC2?   \n",
       "3  Why am I asked to verify my phone number when ...   \n",
       "4  What can developers now do that they could not...   \n",
       "\n",
       "                                              Answer  \n",
       "0  Amazon Elastic Compute Cloud (Amazon EC2) is a...  \n",
       "1  Just as Amazon Simple Storage Service (Amazon ...  \n",
       "2  To sign up for Amazon EC2, click the “Sign up ...  \n",
       "3  Amazon EC2 registration requires you to have a...  \n",
       "4  Until now, small developers did not have the c...  "
      ]
     },
     "execution_count": 9,
     "metadata": {},
     "output_type": "execute_result"
    }
   ],
   "source": [
    "df = pd.read_csv(r\"C:\\Users\\Lenovo\\Downloads\\chat_bot_AWS\\AWS_FAQ_Bot.csv\")\n",
    "df.head()"
   ]
  },
  {
   "cell_type": "code",
   "execution_count": 10,
   "id": "29bb0faa",
   "metadata": {},
   "outputs": [
    {
     "name": "stdout",
     "output_type": "stream",
     "text": [
      "<class 'pandas.core.frame.DataFrame'>\n",
      "RangeIndex: 671 entries, 0 to 670\n",
      "Data columns (total 2 columns):\n",
      " #   Column    Non-Null Count  Dtype \n",
      "---  ------    --------------  ----- \n",
      " 0   Question  670 non-null    object\n",
      " 1   Answer    654 non-null    object\n",
      "dtypes: object(2)\n",
      "memory usage: 10.6+ KB\n"
     ]
    }
   ],
   "source": [
    "df.info()"
   ]
  },
  {
   "cell_type": "code",
   "execution_count": 13,
   "id": "bd7186e1",
   "metadata": {},
   "outputs": [
    {
     "data": {
      "text/plain": [
       "Question     1\n",
       "Answer      17\n",
       "dtype: int64"
      ]
     },
     "execution_count": 13,
     "metadata": {},
     "output_type": "execute_result"
    }
   ],
   "source": [
    "df.isnull().sum()"
   ]
  },
  {
   "cell_type": "code",
   "execution_count": 14,
   "id": "1b4fd9a4",
   "metadata": {},
   "outputs": [],
   "source": [
    "df.dropna(inplace=True)"
   ]
  },
  {
   "cell_type": "code",
   "execution_count": 15,
   "id": "7b60ff71",
   "metadata": {},
   "outputs": [
    {
     "data": {
      "text/plain": [
       "Question    0\n",
       "Answer      0\n",
       "dtype: int64"
      ]
     },
     "execution_count": 15,
     "metadata": {},
     "output_type": "execute_result"
    }
   ],
   "source": [
    "df.isnull().sum()"
   ]
  },
  {
   "cell_type": "code",
   "execution_count": null,
   "id": "565f4805",
   "metadata": {},
   "outputs": [],
   "source": [
    "vec = TfidfVectorizer()\n",
    "vec.fit(np.concatenate((df['Question'], df['Answer'])))"
   ]
  },
  {
   "cell_type": "code",
   "execution_count": null,
   "id": "f70f76bc",
   "metadata": {},
   "outputs": [],
   "source": [
    "feature_col = vec.get_feature_names_out()\n",
    "feature_col"
   ]
  },
  {
   "cell_type": "code",
   "execution_count": 18,
   "id": "227cf752",
   "metadata": {},
   "outputs": [
    {
     "data": {
      "text/plain": [
       "array(['active', 'activities', 'activity', 'actor', 'actual', 'actually',\n",
       "       'adapter', 'add', 'added', 'adding', 'addition', 'additional',\n",
       "       'additionally', 'additions', 'address', 'addressed', 'addresses',\n",
       "       'adds', 'adequate', 'adjust', 'adjusted', 'adjusting',\n",
       "       'administration', 'administrative', 'administrator', 'adoption',\n",
       "       'advance', 'advanced', 'advancements', 'advances', 'advantage',\n",
       "       'advantages', 'advertised', 'advisory', 'aerospike', 'aes',\n",
       "       'affect', 'affected', 'afi', 'afis', 'after', 'again', 'against',\n",
       "       'aggregate', 'aggregated', 'aggregates', 'agreement', 'ahead',\n",
       "       'ai', 'aka', 'alarm', 'alarms', 'alerts', 'algorithm',\n",
       "       'algorithmic', 'algorithms', 'alias', 'alive', 'all', 'allocate',\n",
       "       'allocated', 'allocation', 'allow', 'allowed', 'allowing',\n",
       "       'allows', 'alone', 'along', 'alongside', 'already', 'also',\n",
       "       'alternate', 'alternatively', 'although', 'always', 'am', 'amazon',\n",
       "       'amazonaws', 'america', 'ami', 'amis', 'among', 'amount',\n",
       "       'amounts', 'an', 'analogous', 'analysis', 'analysts', 'analytics',\n",
       "       'and', 'another', 'answer', 'answered', 'answers', 'anticipate',\n",
       "       'any', 'anycast', 'anyone', 'anything', 'apache', 'apex', 'api',\n",
       "       'apis', 'appear', 'appliance', 'applicability', 'applicable',\n",
       "       'application', 'applications', 'applied', 'applies', 'apply',\n",
       "       'applying', 'approach', 'approaching', 'appropriate',\n",
       "       'approximately', 'apps', 'appservers', 'ar', 'arabic', 'arbitrary',\n",
       "       'architects', 'architecture', 'architectures', 'archive',\n",
       "       'archiving', 'are', 'areas', 'armenian', 'around', 'array',\n",
       "       'arrive', 'arriving', 'artifacts', 'artificial', 'as', 'asia',\n",
       "       'aside', 'ask', 'asked', 'assign', 'assigned', 'assigning',\n",
       "       'assocation', 'associate', 'associated', 'associates',\n",
       "       'associating', 'association', 'assume', 'assumes', 'assumptions',\n",
       "       'at', 'attach', 'attached', 'attaching', 'attachment',\n",
       "       'attachments', 'attachvolume', 'attempt', 'attributes', 'audience',\n",
       "       'audio', 'auditing', 'auri', 'auris', 'authcode', 'authenticate',\n",
       "       'authenticated', 'authentication', 'authoritative', 'authority',\n",
       "       'authorization', 'authorized', 'auto', 'autocomplete', 'automated',\n",
       "       'automates', 'automatic', 'automatically', 'automation',\n",
       "       'autonomous', 'availability', 'available', 'average', 'avoid',\n",
       "       'avx', 'avx2', 'awareness', 'away', 'aws', 'awsec2', 'az', 'b022',\n",
       "       'b147', 'b300', 'back', 'backed', 'backend', 'background',\n",
       "       'backing', 'backup', 'backups', 'backward', 'bad', 'balance',\n",
       "       'balancer', 'balancers', 'balances', 'balancing', 'bandwidth',\n",
       "       'bank', 'banking', 'bare', 'base', 'based', 'baseline', 'bases',\n",
       "       'basic', 'basis', 'basque', 'batch', 'batches', 'batching', 'be',\n",
       "       'beanstalk', 'because', 'become', 'becomes', 'been', 'before',\n",
       "       'begin', 'beginning', 'behalf', 'behave', 'behavior', 'behaviors',\n",
       "       'behind', 'being', 'belong', 'belonging', 'below', 'benchmark',\n",
       "       'benchmarks', 'benefit', 'benefiting', 'benefits', 'best',\n",
       "       'better', 'between', 'beyond', 'bg', 'bias', 'biasing', 'big',\n",
       "       'bigger', 'biggest', 'bill', 'billable', 'billed', 'billing',\n",
       "       'bind', 'bios', 'bisection', 'bit', 'bits', 'blkfront', 'block',\n",
       "       'blocks', 'blog', 'blue', 'board', 'body', 'book', 'boolean',\n",
       "       'boost', 'boosting', 'boostrapping', 'boot', 'booted', 'booting',\n",
       "       'bootstrapping', 'both', 'boto', 'boto3v1', 'botocorev1', 'bought',\n",
       "       'bound', 'box', 'bring', 'broad', 'broader', 'browse', 'bucket',\n",
       "       'buckets', 'buffers', 'build', 'builder', 'building'], dtype=object)"
      ]
     },
     "execution_count": 18,
     "metadata": {},
     "output_type": "execute_result"
    }
   ],
   "source": [
    "feature_col[200:500]"
   ]
  },
  {
   "cell_type": "code",
   "execution_count": 19,
   "id": "3cc7f15c",
   "metadata": {},
   "outputs": [
    {
     "data": {
      "text/plain": [
       "<653x3421 sparse matrix of type '<class 'numpy.float64'>'\n",
       "\twith 6475 stored elements in Compressed Sparse Row format>"
      ]
     },
     "execution_count": 19,
     "metadata": {},
     "output_type": "execute_result"
    }
   ],
   "source": [
    "df_vectors = vec.transform(df['Question'])\n",
    "df_vectors"
   ]
  },
  {
   "cell_type": "code",
   "execution_count": 20,
   "id": "e86b2a77",
   "metadata": {},
   "outputs": [],
   "source": [
    "from re import T"
   ]
  },
  {
   "cell_type": "code",
   "execution_count": null,
   "id": "e4143038",
   "metadata": {},
   "outputs": [
    {
     "name": "stdout",
     "output_type": "stream",
     "text": [
      "Hello, welcome to Learnbay Chatbot, this is a simple chatbot which can answer the question\n",
      "Ask me anything related to AWS\n"
     ]
    }
   ],
   "source": [
    "print(f\"Hello, welcome to Learnbay Chatbot, this is a simple chatbot which can answer the question\")\n",
    "print(\"Ask me anything related to AWS\")\n",
    "\n",
    "while True:\n",
    "    input_question = input()\n",
    "    \n",
    "    if input_question == 'stop':\n",
    "        break\n",
    "        \n",
    "    input_question_vec = vec.transform([input_question])\n",
    "    similarity = cosine_similarity(input_question_vec, df_vectors)\n",
    "    closest_ans = np.argmax(similarity, axis = 1)\n",
    "    print(f\"Response from chatbot is : {df['Answer'].iloc[closest_ans].values[0]}\")"
   ]
  },
  {
   "cell_type": "code",
   "execution_count": null,
   "id": "096c0cd8",
   "metadata": {},
   "outputs": [],
   "source": []
  }
 ],
 "metadata": {
  "kernelspec": {
   "display_name": "Python 3 (ipykernel)",
   "language": "python",
   "name": "python3"
  },
  "language_info": {
   "codemirror_mode": {
    "name": "ipython",
    "version": 3
   },
   "file_extension": ".py",
   "mimetype": "text/x-python",
   "name": "python",
   "nbconvert_exporter": "python",
   "pygments_lexer": "ipython3",
   "version": "3.11.4"
  }
 },
 "nbformat": 4,
 "nbformat_minor": 5
}
